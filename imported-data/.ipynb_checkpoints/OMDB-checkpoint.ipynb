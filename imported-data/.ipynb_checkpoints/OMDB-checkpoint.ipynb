{
 "cells": [
  {
   "cell_type": "markdown",
   "metadata": {},
   "source": [
    "Using OMDB api to find data about TV shows"
   ]
  },
  {
   "cell_type": "code",
   "execution_count": 78,
   "metadata": {
    "collapsed": true
   },
   "outputs": [],
   "source": [
    "import json\n",
    "import urllib.request as request"
   ]
  },
  {
   "cell_type": "markdown",
   "metadata": {},
   "source": [
    "We're using two params. t (for title) and Season. Change values as you wish :)"
   ]
  },
  {
   "cell_type": "code",
   "execution_count": 163,
   "metadata": {
    "collapsed": false
   },
   "outputs": [],
   "source": [
    "url = 'http://www.omdbapi.com/?t=Scandal&Season=3'"
   ]
  },
  {
   "cell_type": "code",
   "execution_count": 164,
   "metadata": {
    "collapsed": false
   },
   "outputs": [],
   "source": [
    "content = request.urlopen(url).read()"
   ]
  },
  {
   "cell_type": "code",
   "execution_count": 165,
   "metadata": {
    "collapsed": true
   },
   "outputs": [],
   "source": [
    "data = json.loads(content.decode('UTF-8'))"
   ]
  },
  {
   "cell_type": "markdown",
   "metadata": {},
   "source": [
    "Now let's take a look at what data we have"
   ]
  },
  {
   "cell_type": "code",
   "execution_count": 166,
   "metadata": {
    "collapsed": false
   },
   "outputs": [
    {
     "name": "stdout",
     "output_type": "stream",
     "text": [
      "{'Episodes': [{'Episode': '1', 'imdbRating': '8.6', 'Released': '2013-10-03', 'Title': \"It's Handled\", 'imdbID': 'tt3134028'}, {'Episode': '2', 'imdbRating': '8.4', 'Released': '2013-10-10', 'Title': \"Guess Who's Coming to Dinner\", 'imdbID': 'tt3120752'}, {'Episode': '3', 'imdbRating': '8.4', 'Released': '2013-10-17', 'Title': 'Mrs. Smith Goes to Washington', 'imdbID': 'tt3172768'}, {'Episode': '4', 'imdbRating': '7.8', 'Released': '2013-10-24', 'Title': 'Say Hello to My Little Friend', 'imdbID': 'tt3172772'}, {'Episode': '5', 'imdbRating': '8.4', 'Released': '2013-10-31', 'Title': 'More Cattle, Less Bull', 'imdbID': 'tt3172774'}, {'Episode': '6', 'imdbRating': '8.0', 'Released': '2013-11-07', 'Title': 'Icarus', 'imdbID': 'tt3255848'}, {'Episode': '7', 'imdbRating': '8.3', 'Released': '2013-11-14', 'Title': \"Everything's Coming Up Mellie\", 'imdbID': 'tt3276282'}, {'Episode': '8', 'imdbRating': '8.4', 'Released': '2013-11-21', 'Title': 'Vermont Is for Lovers, Too', 'imdbID': 'tt3276280'}, {'Episode': '9', 'imdbRating': '8.0', 'Released': '2013-12-05', 'Title': 'YOLO', 'imdbID': 'tt3276284'}, {'Episode': '10', 'imdbRating': '8.1', 'Released': '2013-12-12', 'Title': 'A Door Marked Exit', 'imdbID': 'tt3276286'}, {'Episode': '11', 'imdbRating': '8.1', 'Released': '2014-02-27', 'Title': 'Ride, Sally, Ride', 'imdbID': 'tt3288594'}, {'Episode': '12', 'imdbRating': '8.2', 'Released': '2014-03-06', 'Title': 'We Do Not Touch the First Ladies', 'imdbID': 'tt3288596'}, {'Episode': '13', 'imdbRating': '8.4', 'Released': '2014-03-13', 'Title': 'No Sun on the Horizon', 'imdbID': 'tt3288600'}, {'Episode': '14', 'imdbRating': '8.5', 'Released': '2014-03-20', 'Title': 'Kiss Kiss Bang Bang', 'imdbID': 'tt3288608'}, {'Episode': '15', 'imdbRating': '8.0', 'Released': '2014-03-27', 'Title': 'Mama Said Knock You Out', 'imdbID': 'tt3288614'}, {'Episode': '16', 'imdbRating': '8.3', 'Released': '2014-04-03', 'Title': 'The Fluffer', 'imdbID': 'tt3288612'}, {'Episode': '17', 'imdbRating': '8.4', 'Released': '2014-04-10', 'Title': 'Flesh and Blood', 'imdbID': 'tt3288628'}, {'Episode': '18', 'imdbRating': '8.7', 'Released': '2014-04-17', 'Title': 'The Price of Free and Fair Elections', 'imdbID': 'tt3288620'}], 'Response': 'True', 'Season': '3', 'Title': 'Scandal', 'totalSeasons': '6'}\n"
     ]
    }
   ],
   "source": [
    "print(data)"
   ]
  },
  {
   "cell_type": "markdown",
   "metadata": {},
   "source": [
    "Okay! As we can see, data are indexed by Episodes. What do we have about the first episode?"
   ]
  },
  {
   "cell_type": "code",
   "execution_count": 167,
   "metadata": {
    "collapsed": false
   },
   "outputs": [
    {
     "name": "stdout",
     "output_type": "stream",
     "text": [
      "{'Episode': '1', 'imdbRating': '8.6', 'Released': '2013-10-03', 'Title': \"It's Handled\", 'imdbID': 'tt3134028'}\n"
     ]
    }
   ],
   "source": [
    "print(data['Episodes'][0])"
   ]
  },
  {
   "cell_type": "markdown",
   "metadata": {},
   "source": [
    "So now we know which attributes each episode has. imdbRating is quite interesting, let's work on that. If we want to find out the rating for the seventh episode, all we gotta do is:"
   ]
  },
  {
   "cell_type": "code",
   "execution_count": 170,
   "metadata": {
    "collapsed": false
   },
   "outputs": [
    {
     "name": "stdout",
     "output_type": "stream",
     "text": [
      "8.3\n"
     ]
    }
   ],
   "source": [
    "print(data['Episodes'][6]['imdbRating'])"
   ]
  },
  {
   "cell_type": "markdown",
   "metadata": {},
   "source": [
    "Since we want to analyze data statistically, let's create a list and keep all ratings grouped"
   ]
  },
  {
   "cell_type": "code",
   "execution_count": 141,
   "metadata": {
    "collapsed": false
   },
   "outputs": [],
   "source": [
    "ratings = []\n",
    "for episode in data['Episodes']:\n",
    "    ratings.append(episode['imdbRating'])"
   ]
  },
  {
   "cell_type": "code",
   "execution_count": 171,
   "metadata": {
    "collapsed": false
   },
   "outputs": [
    {
     "name": "stdout",
     "output_type": "stream",
     "text": [
      "['8.6', '8.4', '8.4', '7.8', '8.4', '8.0', '8.3', '8.4', '8.0', '8.1', '8.1', '8.2', '8.4', '8.5', '8.0', '8.3', '8.4', '8.7']\n"
     ]
    }
   ],
   "source": [
    "print(ratings)"
   ]
  },
  {
   "cell_type": "code",
   "execution_count": 142,
   "metadata": {
    "collapsed": true
   },
   "outputs": [],
   "source": [
    "from scipy import stats"
   ]
  },
  {
   "cell_type": "markdown",
   "metadata": {},
   "source": [
    "What rating can be considered the mode for that season?"
   ]
  },
  {
   "cell_type": "code",
   "execution_count": 143,
   "metadata": {
    "collapsed": false
   },
   "outputs": [
    {
     "name": "stdout",
     "output_type": "stream",
     "text": [
      "ModeResult(mode=array(['8.4'], \n",
      "      dtype='<U3'), count=array([6]))\n"
     ]
    },
    {
     "name": "stderr",
     "output_type": "stream",
     "text": [
      "/home/lmayra/.pyenv/versions/3.4.3/lib/python3.4/site-packages/scipy/stats/stats.py:257: RuntimeWarning: The input array could not be properly checked for nan values. nan values will be ignored.\n",
      "  \"values. nan values will be ignored.\", RuntimeWarning)\n"
     ]
    }
   ],
   "source": [
    "mode = stats.mode(ratings)\n",
    "print(mode)"
   ]
  },
  {
   "cell_type": "code",
   "execution_count": 144,
   "metadata": {
    "collapsed": false
   },
   "outputs": [
    {
     "name": "stdout",
     "output_type": "stream",
     "text": [
      "8.4\n"
     ]
    }
   ],
   "source": [
    "print(mode[0][0])"
   ]
  },
  {
   "cell_type": "markdown",
   "metadata": {},
   "source": [
    "How many episodes have been rated like this?"
   ]
  },
  {
   "cell_type": "code",
   "execution_count": 139,
   "metadata": {
    "collapsed": false
   },
   "outputs": [
    {
     "name": "stdout",
     "output_type": "stream",
     "text": [
      "6\n"
     ]
    }
   ],
   "source": [
    "print(mode[1][0])"
   ]
  }
 ],
 "metadata": {
  "kernelspec": {
   "display_name": "Python 3",
   "language": "python",
   "name": "python3"
  },
  "language_info": {
   "codemirror_mode": {
    "name": "ipython",
    "version": 3
   },
   "file_extension": ".py",
   "mimetype": "text/x-python",
   "name": "python",
   "nbconvert_exporter": "python",
   "pygments_lexer": "ipython3",
   "version": "3.4.3"
  }
 },
 "nbformat": 4,
 "nbformat_minor": 0
}
